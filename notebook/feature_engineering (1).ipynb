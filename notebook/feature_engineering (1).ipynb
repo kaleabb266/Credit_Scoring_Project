{
 "cells": [
  {
   "cell_type": "code",
   "execution_count": 1,
   "metadata": {},
   "outputs": [],
   "source": [
    "import pandas as pd\n",
    "import sys\n",
    "sys.path.append('../scripts')"
   ]
  },
  {
   "cell_type": "code",
   "execution_count": 2,
   "metadata": {},
   "outputs": [],
   "source": [
    "import pandas as pd\n",
    "from feature_engineering import compute_customer_metrics, extract_transaction_features, encode_categorical_columns, scale_numerical_columns\n",
    "from Default_estimator_WoE import calculate_rfms, create_default_estimator, visualize_rfms, woe_binning\n"
   ]
  },
  {
   "cell_type": "code",
   "execution_count": 3,
   "metadata": {},
   "outputs": [],
   "source": [
    "df = pd.read_csv('../data/data.csv')"
   ]
  },
  {
   "cell_type": "code",
   "execution_count": 4,
   "metadata": {},
   "outputs": [
    {
     "data": {
      "application/vnd.microsoft.datawrangler.viewer.v0+json": {
       "columns": [
        {
         "name": "CustomerId",
         "rawType": "object",
         "type": "string"
        },
        {
         "name": "TotalTransactionAmount",
         "rawType": "float64",
         "type": "float"
        },
        {
         "name": "AverageTransactionAmount",
         "rawType": "float64",
         "type": "float"
        },
        {
         "name": "TransactionCount",
         "rawType": "int64",
         "type": "integer"
        },
        {
         "name": "TransactionStdDev",
         "rawType": "float64",
         "type": "float"
        }
       ],
       "ref": "f5a42702-e200-4d64-a8e0-4bfb687b0db7",
       "rows": [
        [
         "CustomerId_1",
         "-10000.0",
         "-10000.0",
         "1",
         null
        ],
        [
         "CustomerId_10",
         "-10000.0",
         "-10000.0",
         "1",
         null
        ],
        [
         "CustomerId_1001",
         "20000.0",
         "4000.0",
         "5",
         "6558.963332722634"
        ],
        [
         "CustomerId_1002",
         "4225.0",
         "384.09090909090907",
         "11",
         "560.4989660196449"
        ],
        [
         "CustomerId_1003",
         "20000.0",
         "3333.3333333333335",
         "6",
         "6030.478145774734"
        ]
       ],
       "shape": {
        "columns": 4,
        "rows": 5
       }
      },
      "text/html": [
       "<div>\n",
       "<style scoped>\n",
       "    .dataframe tbody tr th:only-of-type {\n",
       "        vertical-align: middle;\n",
       "    }\n",
       "\n",
       "    .dataframe tbody tr th {\n",
       "        vertical-align: top;\n",
       "    }\n",
       "\n",
       "    .dataframe thead th {\n",
       "        text-align: right;\n",
       "    }\n",
       "</style>\n",
       "<table border=\"1\" class=\"dataframe\">\n",
       "  <thead>\n",
       "    <tr style=\"text-align: right;\">\n",
       "      <th></th>\n",
       "      <th>TotalTransactionAmount</th>\n",
       "      <th>AverageTransactionAmount</th>\n",
       "      <th>TransactionCount</th>\n",
       "      <th>TransactionStdDev</th>\n",
       "    </tr>\n",
       "    <tr>\n",
       "      <th>CustomerId</th>\n",
       "      <th></th>\n",
       "      <th></th>\n",
       "      <th></th>\n",
       "      <th></th>\n",
       "    </tr>\n",
       "  </thead>\n",
       "  <tbody>\n",
       "    <tr>\n",
       "      <th>CustomerId_1</th>\n",
       "      <td>-10000.0</td>\n",
       "      <td>-10000.000000</td>\n",
       "      <td>1</td>\n",
       "      <td>NaN</td>\n",
       "    </tr>\n",
       "    <tr>\n",
       "      <th>CustomerId_10</th>\n",
       "      <td>-10000.0</td>\n",
       "      <td>-10000.000000</td>\n",
       "      <td>1</td>\n",
       "      <td>NaN</td>\n",
       "    </tr>\n",
       "    <tr>\n",
       "      <th>CustomerId_1001</th>\n",
       "      <td>20000.0</td>\n",
       "      <td>4000.000000</td>\n",
       "      <td>5</td>\n",
       "      <td>6558.963333</td>\n",
       "    </tr>\n",
       "    <tr>\n",
       "      <th>CustomerId_1002</th>\n",
       "      <td>4225.0</td>\n",
       "      <td>384.090909</td>\n",
       "      <td>11</td>\n",
       "      <td>560.498966</td>\n",
       "    </tr>\n",
       "    <tr>\n",
       "      <th>CustomerId_1003</th>\n",
       "      <td>20000.0</td>\n",
       "      <td>3333.333333</td>\n",
       "      <td>6</td>\n",
       "      <td>6030.478146</td>\n",
       "    </tr>\n",
       "  </tbody>\n",
       "</table>\n",
       "</div>"
      ],
      "text/plain": [
       "                 TotalTransactionAmount  AverageTransactionAmount  \\\n",
       "CustomerId                                                          \n",
       "CustomerId_1                   -10000.0             -10000.000000   \n",
       "CustomerId_10                  -10000.0             -10000.000000   \n",
       "CustomerId_1001                 20000.0               4000.000000   \n",
       "CustomerId_1002                  4225.0                384.090909   \n",
       "CustomerId_1003                 20000.0               3333.333333   \n",
       "\n",
       "                 TransactionCount  TransactionStdDev  \n",
       "CustomerId                                            \n",
       "CustomerId_1                    1                NaN  \n",
       "CustomerId_10                   1                NaN  \n",
       "CustomerId_1001                 5        6558.963333  \n",
       "CustomerId_1002                11         560.498966  \n",
       "CustomerId_1003                 6        6030.478146  "
      ]
     },
     "execution_count": 4,
     "metadata": {},
     "output_type": "execute_result"
    }
   ],
   "source": [
    "aggregate_features = compute_customer_metrics(df)\n",
    "aggregate_features.head()"
   ]
  },
  {
   "cell_type": "code",
   "execution_count": 5,
   "metadata": {},
   "outputs": [],
   "source": [
    "merged_df = pd.merge(df, aggregate_features , on = 'CustomerId')"
   ]
  },
  {
   "cell_type": "code",
   "execution_count": 6,
   "metadata": {},
   "outputs": [
    {
     "data": {
      "application/vnd.microsoft.datawrangler.viewer.v0+json": {
       "columns": [
        {
         "name": "index",
         "rawType": "int64",
         "type": "integer"
        },
        {
         "name": "TransactionId",
         "rawType": "object",
         "type": "string"
        },
        {
         "name": "BatchId",
         "rawType": "object",
         "type": "string"
        },
        {
         "name": "AccountId",
         "rawType": "object",
         "type": "string"
        },
        {
         "name": "SubscriptionId",
         "rawType": "object",
         "type": "string"
        },
        {
         "name": "CustomerId",
         "rawType": "object",
         "type": "string"
        },
        {
         "name": "CurrencyCode",
         "rawType": "object",
         "type": "string"
        },
        {
         "name": "CountryCode",
         "rawType": "int64",
         "type": "integer"
        },
        {
         "name": "ProviderId",
         "rawType": "object",
         "type": "string"
        },
        {
         "name": "ProductId",
         "rawType": "object",
         "type": "string"
        },
        {
         "name": "ProductCategory",
         "rawType": "object",
         "type": "string"
        },
        {
         "name": "ChannelId",
         "rawType": "object",
         "type": "string"
        },
        {
         "name": "Amount",
         "rawType": "float64",
         "type": "float"
        },
        {
         "name": "Value",
         "rawType": "int64",
         "type": "integer"
        },
        {
         "name": "TransactionStartTime",
         "rawType": "object",
         "type": "string"
        },
        {
         "name": "PricingStrategy",
         "rawType": "int64",
         "type": "integer"
        },
        {
         "name": "FraudResult",
         "rawType": "int64",
         "type": "integer"
        },
        {
         "name": "TotalTransactionAmount",
         "rawType": "float64",
         "type": "float"
        },
        {
         "name": "AverageTransactionAmount",
         "rawType": "float64",
         "type": "float"
        },
        {
         "name": "TransactionCount",
         "rawType": "int64",
         "type": "integer"
        },
        {
         "name": "TransactionStdDev",
         "rawType": "float64",
         "type": "float"
        }
       ],
       "ref": "24f322d9-dfc5-4b2c-a6ca-ff9803c268e7",
       "rows": [
        [
         "0",
         "TransactionId_76871",
         "BatchId_36123",
         "AccountId_3957",
         "SubscriptionId_887",
         "CustomerId_4406",
         "UGX",
         "256",
         "ProviderId_6",
         "ProductId_10",
         "airtime",
         "ChannelId_3",
         "1000.0",
         "1000",
         "2018-11-15T02:18:49Z",
         "2",
         "0",
         "109921.75",
         "923.7121848739496",
         "119",
         "3042.2942512284867"
        ],
        [
         "1",
         "TransactionId_73770",
         "BatchId_15642",
         "AccountId_4841",
         "SubscriptionId_3829",
         "CustomerId_4406",
         "UGX",
         "256",
         "ProviderId_4",
         "ProductId_6",
         "financial_services",
         "ChannelId_2",
         "-20.0",
         "20",
         "2018-11-15T02:19:08Z",
         "2",
         "0",
         "109921.75",
         "923.7121848739496",
         "119",
         "3042.2942512284867"
        ],
        [
         "2",
         "TransactionId_26203",
         "BatchId_53941",
         "AccountId_4229",
         "SubscriptionId_222",
         "CustomerId_4683",
         "UGX",
         "256",
         "ProviderId_6",
         "ProductId_1",
         "airtime",
         "ChannelId_3",
         "500.0",
         "500",
         "2018-11-15T02:44:21Z",
         "2",
         "0",
         "1000.0",
         "500.0",
         "2",
         "0.0"
        ],
        [
         "3",
         "TransactionId_380",
         "BatchId_102363",
         "AccountId_648",
         "SubscriptionId_2185",
         "CustomerId_988",
         "UGX",
         "256",
         "ProviderId_1",
         "ProductId_21",
         "utility_bill",
         "ChannelId_3",
         "20000.0",
         "21800",
         "2018-11-15T03:32:55Z",
         "2",
         "0",
         "228727.2",
         "6019.136842105264",
         "38",
         "17169.241609853503"
        ],
        [
         "4",
         "TransactionId_28195",
         "BatchId_38780",
         "AccountId_4841",
         "SubscriptionId_3829",
         "CustomerId_988",
         "UGX",
         "256",
         "ProviderId_4",
         "ProductId_6",
         "financial_services",
         "ChannelId_2",
         "-644.0",
         "644",
         "2018-11-15T03:34:21Z",
         "2",
         "0",
         "228727.2",
         "6019.136842105264",
         "38",
         "17169.241609853503"
        ]
       ],
       "shape": {
        "columns": 20,
        "rows": 5
       }
      },
      "text/html": [
       "<div>\n",
       "<style scoped>\n",
       "    .dataframe tbody tr th:only-of-type {\n",
       "        vertical-align: middle;\n",
       "    }\n",
       "\n",
       "    .dataframe tbody tr th {\n",
       "        vertical-align: top;\n",
       "    }\n",
       "\n",
       "    .dataframe thead th {\n",
       "        text-align: right;\n",
       "    }\n",
       "</style>\n",
       "<table border=\"1\" class=\"dataframe\">\n",
       "  <thead>\n",
       "    <tr style=\"text-align: right;\">\n",
       "      <th></th>\n",
       "      <th>TransactionId</th>\n",
       "      <th>BatchId</th>\n",
       "      <th>AccountId</th>\n",
       "      <th>SubscriptionId</th>\n",
       "      <th>CustomerId</th>\n",
       "      <th>CurrencyCode</th>\n",
       "      <th>CountryCode</th>\n",
       "      <th>ProviderId</th>\n",
       "      <th>ProductId</th>\n",
       "      <th>ProductCategory</th>\n",
       "      <th>ChannelId</th>\n",
       "      <th>Amount</th>\n",
       "      <th>Value</th>\n",
       "      <th>TransactionStartTime</th>\n",
       "      <th>PricingStrategy</th>\n",
       "      <th>FraudResult</th>\n",
       "      <th>TotalTransactionAmount</th>\n",
       "      <th>AverageTransactionAmount</th>\n",
       "      <th>TransactionCount</th>\n",
       "      <th>TransactionStdDev</th>\n",
       "    </tr>\n",
       "  </thead>\n",
       "  <tbody>\n",
       "    <tr>\n",
       "      <th>0</th>\n",
       "      <td>TransactionId_76871</td>\n",
       "      <td>BatchId_36123</td>\n",
       "      <td>AccountId_3957</td>\n",
       "      <td>SubscriptionId_887</td>\n",
       "      <td>CustomerId_4406</td>\n",
       "      <td>UGX</td>\n",
       "      <td>256</td>\n",
       "      <td>ProviderId_6</td>\n",
       "      <td>ProductId_10</td>\n",
       "      <td>airtime</td>\n",
       "      <td>ChannelId_3</td>\n",
       "      <td>1000.0</td>\n",
       "      <td>1000</td>\n",
       "      <td>2018-11-15T02:18:49Z</td>\n",
       "      <td>2</td>\n",
       "      <td>0</td>\n",
       "      <td>109921.75</td>\n",
       "      <td>923.712185</td>\n",
       "      <td>119</td>\n",
       "      <td>3042.294251</td>\n",
       "    </tr>\n",
       "    <tr>\n",
       "      <th>1</th>\n",
       "      <td>TransactionId_73770</td>\n",
       "      <td>BatchId_15642</td>\n",
       "      <td>AccountId_4841</td>\n",
       "      <td>SubscriptionId_3829</td>\n",
       "      <td>CustomerId_4406</td>\n",
       "      <td>UGX</td>\n",
       "      <td>256</td>\n",
       "      <td>ProviderId_4</td>\n",
       "      <td>ProductId_6</td>\n",
       "      <td>financial_services</td>\n",
       "      <td>ChannelId_2</td>\n",
       "      <td>-20.0</td>\n",
       "      <td>20</td>\n",
       "      <td>2018-11-15T02:19:08Z</td>\n",
       "      <td>2</td>\n",
       "      <td>0</td>\n",
       "      <td>109921.75</td>\n",
       "      <td>923.712185</td>\n",
       "      <td>119</td>\n",
       "      <td>3042.294251</td>\n",
       "    </tr>\n",
       "    <tr>\n",
       "      <th>2</th>\n",
       "      <td>TransactionId_26203</td>\n",
       "      <td>BatchId_53941</td>\n",
       "      <td>AccountId_4229</td>\n",
       "      <td>SubscriptionId_222</td>\n",
       "      <td>CustomerId_4683</td>\n",
       "      <td>UGX</td>\n",
       "      <td>256</td>\n",
       "      <td>ProviderId_6</td>\n",
       "      <td>ProductId_1</td>\n",
       "      <td>airtime</td>\n",
       "      <td>ChannelId_3</td>\n",
       "      <td>500.0</td>\n",
       "      <td>500</td>\n",
       "      <td>2018-11-15T02:44:21Z</td>\n",
       "      <td>2</td>\n",
       "      <td>0</td>\n",
       "      <td>1000.00</td>\n",
       "      <td>500.000000</td>\n",
       "      <td>2</td>\n",
       "      <td>0.000000</td>\n",
       "    </tr>\n",
       "    <tr>\n",
       "      <th>3</th>\n",
       "      <td>TransactionId_380</td>\n",
       "      <td>BatchId_102363</td>\n",
       "      <td>AccountId_648</td>\n",
       "      <td>SubscriptionId_2185</td>\n",
       "      <td>CustomerId_988</td>\n",
       "      <td>UGX</td>\n",
       "      <td>256</td>\n",
       "      <td>ProviderId_1</td>\n",
       "      <td>ProductId_21</td>\n",
       "      <td>utility_bill</td>\n",
       "      <td>ChannelId_3</td>\n",
       "      <td>20000.0</td>\n",
       "      <td>21800</td>\n",
       "      <td>2018-11-15T03:32:55Z</td>\n",
       "      <td>2</td>\n",
       "      <td>0</td>\n",
       "      <td>228727.20</td>\n",
       "      <td>6019.136842</td>\n",
       "      <td>38</td>\n",
       "      <td>17169.241610</td>\n",
       "    </tr>\n",
       "    <tr>\n",
       "      <th>4</th>\n",
       "      <td>TransactionId_28195</td>\n",
       "      <td>BatchId_38780</td>\n",
       "      <td>AccountId_4841</td>\n",
       "      <td>SubscriptionId_3829</td>\n",
       "      <td>CustomerId_988</td>\n",
       "      <td>UGX</td>\n",
       "      <td>256</td>\n",
       "      <td>ProviderId_4</td>\n",
       "      <td>ProductId_6</td>\n",
       "      <td>financial_services</td>\n",
       "      <td>ChannelId_2</td>\n",
       "      <td>-644.0</td>\n",
       "      <td>644</td>\n",
       "      <td>2018-11-15T03:34:21Z</td>\n",
       "      <td>2</td>\n",
       "      <td>0</td>\n",
       "      <td>228727.20</td>\n",
       "      <td>6019.136842</td>\n",
       "      <td>38</td>\n",
       "      <td>17169.241610</td>\n",
       "    </tr>\n",
       "  </tbody>\n",
       "</table>\n",
       "</div>"
      ],
      "text/plain": [
       "         TransactionId         BatchId       AccountId       SubscriptionId  \\\n",
       "0  TransactionId_76871   BatchId_36123  AccountId_3957   SubscriptionId_887   \n",
       "1  TransactionId_73770   BatchId_15642  AccountId_4841  SubscriptionId_3829   \n",
       "2  TransactionId_26203   BatchId_53941  AccountId_4229   SubscriptionId_222   \n",
       "3    TransactionId_380  BatchId_102363   AccountId_648  SubscriptionId_2185   \n",
       "4  TransactionId_28195   BatchId_38780  AccountId_4841  SubscriptionId_3829   \n",
       "\n",
       "        CustomerId CurrencyCode  CountryCode    ProviderId     ProductId  \\\n",
       "0  CustomerId_4406          UGX          256  ProviderId_6  ProductId_10   \n",
       "1  CustomerId_4406          UGX          256  ProviderId_4   ProductId_6   \n",
       "2  CustomerId_4683          UGX          256  ProviderId_6   ProductId_1   \n",
       "3   CustomerId_988          UGX          256  ProviderId_1  ProductId_21   \n",
       "4   CustomerId_988          UGX          256  ProviderId_4   ProductId_6   \n",
       "\n",
       "      ProductCategory    ChannelId   Amount  Value  TransactionStartTime  \\\n",
       "0             airtime  ChannelId_3   1000.0   1000  2018-11-15T02:18:49Z   \n",
       "1  financial_services  ChannelId_2    -20.0     20  2018-11-15T02:19:08Z   \n",
       "2             airtime  ChannelId_3    500.0    500  2018-11-15T02:44:21Z   \n",
       "3        utility_bill  ChannelId_3  20000.0  21800  2018-11-15T03:32:55Z   \n",
       "4  financial_services  ChannelId_2   -644.0    644  2018-11-15T03:34:21Z   \n",
       "\n",
       "   PricingStrategy  FraudResult  TotalTransactionAmount  \\\n",
       "0                2            0               109921.75   \n",
       "1                2            0               109921.75   \n",
       "2                2            0                 1000.00   \n",
       "3                2            0               228727.20   \n",
       "4                2            0               228727.20   \n",
       "\n",
       "   AverageTransactionAmount  TransactionCount  TransactionStdDev  \n",
       "0                923.712185               119        3042.294251  \n",
       "1                923.712185               119        3042.294251  \n",
       "2                500.000000                 2           0.000000  \n",
       "3               6019.136842                38       17169.241610  \n",
       "4               6019.136842                38       17169.241610  "
      ]
     },
     "execution_count": 6,
     "metadata": {},
     "output_type": "execute_result"
    }
   ],
   "source": [
    "df = merged_df\n",
    "df.head()"
   ]
  },
  {
   "cell_type": "code",
   "execution_count": 7,
   "metadata": {},
   "outputs": [
    {
     "data": {
      "application/vnd.microsoft.datawrangler.viewer.v0+json": {
       "columns": [
        {
         "name": "index",
         "rawType": "int64",
         "type": "integer"
        },
        {
         "name": "TransactionHour",
         "rawType": "int32",
         "type": "integer"
        },
        {
         "name": "TransactionDay",
         "rawType": "int32",
         "type": "integer"
        },
        {
         "name": "TransactionMonth",
         "rawType": "int32",
         "type": "integer"
        },
        {
         "name": "TransactionYear",
         "rawType": "int32",
         "type": "integer"
        }
       ],
       "ref": "1d417b2f-4f40-4127-8b5c-34059855236c",
       "rows": [
        [
         "0",
         "2",
         "15",
         "11",
         "2018"
        ],
        [
         "1",
         "2",
         "15",
         "11",
         "2018"
        ],
        [
         "2",
         "2",
         "15",
         "11",
         "2018"
        ],
        [
         "3",
         "3",
         "15",
         "11",
         "2018"
        ],
        [
         "4",
         "3",
         "15",
         "11",
         "2018"
        ]
       ],
       "shape": {
        "columns": 4,
        "rows": 5
       }
      },
      "text/html": [
       "<div>\n",
       "<style scoped>\n",
       "    .dataframe tbody tr th:only-of-type {\n",
       "        vertical-align: middle;\n",
       "    }\n",
       "\n",
       "    .dataframe tbody tr th {\n",
       "        vertical-align: top;\n",
       "    }\n",
       "\n",
       "    .dataframe thead th {\n",
       "        text-align: right;\n",
       "    }\n",
       "</style>\n",
       "<table border=\"1\" class=\"dataframe\">\n",
       "  <thead>\n",
       "    <tr style=\"text-align: right;\">\n",
       "      <th></th>\n",
       "      <th>TransactionHour</th>\n",
       "      <th>TransactionDay</th>\n",
       "      <th>TransactionMonth</th>\n",
       "      <th>TransactionYear</th>\n",
       "    </tr>\n",
       "  </thead>\n",
       "  <tbody>\n",
       "    <tr>\n",
       "      <th>0</th>\n",
       "      <td>2</td>\n",
       "      <td>15</td>\n",
       "      <td>11</td>\n",
       "      <td>2018</td>\n",
       "    </tr>\n",
       "    <tr>\n",
       "      <th>1</th>\n",
       "      <td>2</td>\n",
       "      <td>15</td>\n",
       "      <td>11</td>\n",
       "      <td>2018</td>\n",
       "    </tr>\n",
       "    <tr>\n",
       "      <th>2</th>\n",
       "      <td>2</td>\n",
       "      <td>15</td>\n",
       "      <td>11</td>\n",
       "      <td>2018</td>\n",
       "    </tr>\n",
       "    <tr>\n",
       "      <th>3</th>\n",
       "      <td>3</td>\n",
       "      <td>15</td>\n",
       "      <td>11</td>\n",
       "      <td>2018</td>\n",
       "    </tr>\n",
       "    <tr>\n",
       "      <th>4</th>\n",
       "      <td>3</td>\n",
       "      <td>15</td>\n",
       "      <td>11</td>\n",
       "      <td>2018</td>\n",
       "    </tr>\n",
       "  </tbody>\n",
       "</table>\n",
       "</div>"
      ],
      "text/plain": [
       "   TransactionHour  TransactionDay  TransactionMonth  TransactionYear\n",
       "0                2              15                11             2018\n",
       "1                2              15                11             2018\n",
       "2                2              15                11             2018\n",
       "3                3              15                11             2018\n",
       "4                3              15                11             2018"
      ]
     },
     "execution_count": 7,
     "metadata": {},
     "output_type": "execute_result"
    }
   ],
   "source": [
    "extracted_features = extract_transaction_features(df)\n",
    "extracted_features.head()"
   ]
  },
  {
   "cell_type": "code",
   "execution_count": 8,
   "metadata": {},
   "outputs": [
    {
     "name": "stdout",
     "output_type": "stream",
     "text": [
      "One-Hot Encoded DataFrame:\n",
      "              TransactionId         BatchId       AccountId  \\\n",
      "0       TransactionId_76871   BatchId_36123  AccountId_3957   \n",
      "1       TransactionId_73770   BatchId_15642  AccountId_4841   \n",
      "2       TransactionId_26203   BatchId_53941  AccountId_4229   \n",
      "3         TransactionId_380  BatchId_102363   AccountId_648   \n",
      "4       TransactionId_28195   BatchId_38780  AccountId_4841   \n",
      "...                     ...             ...             ...   \n",
      "95657   TransactionId_89881   BatchId_96668  AccountId_4841   \n",
      "95658   TransactionId_91597    BatchId_3503  AccountId_3439   \n",
      "95659   TransactionId_82501  BatchId_118602  AccountId_4841   \n",
      "95660  TransactionId_136354   BatchId_70924  AccountId_1346   \n",
      "95661   TransactionId_35670   BatchId_29317  AccountId_4841   \n",
      "\n",
      "            SubscriptionId       CustomerId  CountryCode   Amount  Value  \\\n",
      "0       SubscriptionId_887  CustomerId_4406          256   1000.0   1000   \n",
      "1      SubscriptionId_3829  CustomerId_4406          256    -20.0     20   \n",
      "2       SubscriptionId_222  CustomerId_4683          256    500.0    500   \n",
      "3      SubscriptionId_2185   CustomerId_988          256  20000.0  21800   \n",
      "4      SubscriptionId_3829   CustomerId_988          256   -644.0    644   \n",
      "...                    ...              ...          ...      ...    ...   \n",
      "95657  SubscriptionId_3829  CustomerId_3078          256  -1000.0   1000   \n",
      "95658  SubscriptionId_2643  CustomerId_3874          256   1000.0   1000   \n",
      "95659  SubscriptionId_3829  CustomerId_3874          256    -20.0     20   \n",
      "95660   SubscriptionId_652  CustomerId_1709          256   3000.0   3000   \n",
      "95661  SubscriptionId_3829  CustomerId_1709          256    -60.0     60   \n",
      "\n",
      "           TransactionStartTime  PricingStrategy  ...  ProductCategory_movies  \\\n",
      "0     2018-11-15 02:18:49+00:00                2  ...                   False   \n",
      "1     2018-11-15 02:19:08+00:00                2  ...                   False   \n",
      "2     2018-11-15 02:44:21+00:00                2  ...                   False   \n",
      "3     2018-11-15 03:32:55+00:00                2  ...                   False   \n",
      "4     2018-11-15 03:34:21+00:00                2  ...                   False   \n",
      "...                         ...              ...  ...                     ...   \n",
      "95657 2019-02-13 09:54:09+00:00                2  ...                   False   \n",
      "95658 2019-02-13 09:54:25+00:00                2  ...                   False   \n",
      "95659 2019-02-13 09:54:35+00:00                2  ...                   False   \n",
      "95660 2019-02-13 10:01:10+00:00                2  ...                   False   \n",
      "95661 2019-02-13 10:01:28+00:00                2  ...                   False   \n",
      "\n",
      "       ProductCategory_other  ProductCategory_ticket  \\\n",
      "0                      False                   False   \n",
      "1                      False                   False   \n",
      "2                      False                   False   \n",
      "3                      False                   False   \n",
      "4                      False                   False   \n",
      "...                      ...                     ...   \n",
      "95657                  False                   False   \n",
      "95658                  False                   False   \n",
      "95659                  False                   False   \n",
      "95660                  False                   False   \n",
      "95661                  False                   False   \n",
      "\n",
      "       ProductCategory_transport  ProductCategory_tv  \\\n",
      "0                          False               False   \n",
      "1                          False               False   \n",
      "2                          False               False   \n",
      "3                          False               False   \n",
      "4                          False               False   \n",
      "...                          ...                 ...   \n",
      "95657                      False               False   \n",
      "95658                      False               False   \n",
      "95659                      False               False   \n",
      "95660                      False                True   \n",
      "95661                      False               False   \n",
      "\n",
      "       ProductCategory_utility_bill  ChannelId_ChannelId_1  \\\n",
      "0                             False                  False   \n",
      "1                             False                  False   \n",
      "2                             False                  False   \n",
      "3                              True                  False   \n",
      "4                             False                  False   \n",
      "...                             ...                    ...   \n",
      "95657                         False                  False   \n",
      "95658                         False                  False   \n",
      "95659                         False                  False   \n",
      "95660                         False                  False   \n",
      "95661                         False                  False   \n",
      "\n",
      "       ChannelId_ChannelId_2  ChannelId_ChannelId_3  ChannelId_ChannelId_5  \n",
      "0                      False                   True                  False  \n",
      "1                       True                  False                  False  \n",
      "2                      False                   True                  False  \n",
      "3                      False                   True                  False  \n",
      "4                       True                  False                  False  \n",
      "...                      ...                    ...                    ...  \n",
      "95657                   True                  False                  False  \n",
      "95658                  False                   True                  False  \n",
      "95659                   True                  False                  False  \n",
      "95660                  False                   True                  False  \n",
      "95661                   True                  False                  False  \n",
      "\n",
      "[95662 rows x 62 columns]\n"
     ]
    }
   ],
   "source": [
    "columns_to_one_hot_encode = [\"CurrencyCode\", \"ProviderId\", \"ProductId\", \"ProductCategory\", \"ChannelId\"]\n",
    "\n",
    "# Apply One-Hot Encoding to specified columns\n",
    "encoded_df = encode_categorical_columns(df, columns_to_one_hot_encode, encoding_type='onehot')\n",
    "print(\"One-Hot Encoded DataFrame:\")\n",
    "print(encoded_df)\n"
   ]
  },
  {
   "cell_type": "code",
   "execution_count": 9,
   "metadata": {},
   "outputs": [],
   "source": [
    "df = scale_numerical_columns(df,  [\"Amount\", \"Value\",\"TotalTransactionAmount\", \"AverageTransactionAmount\", \"TransactionCount\", \"TransactionStdDev\" ], \"normalize\")"
   ]
  },
  {
   "cell_type": "code",
   "execution_count": 14,
   "metadata": {},
   "outputs": [],
   "source": [
    "df = calculate_rfms(df)"
   ]
  },
  {
   "cell_type": "code",
   "execution_count": 15,
   "metadata": {},
   "outputs": [
    {
     "data": {
      "image/png": "[encoded data removed]",
      "text/plain": [
       "<Figure size 800x600 with 1 Axes>"
      ]
     },
     "metadata": {},
     "output_type": "display_data"
    }
   ],
   "source": [
    "# Visualize RFMS space\n",
    "visualize_rfms(df)"
   ]
  },
  {
   "cell_type": "code",
   "execution_count": 16,
   "metadata": {},
   "outputs": [],
   "source": [
    "# Assign clusters and labels based on normalized RFMS features\n",
    "df = create_default_estimator(df)"
   ]
  },
  {
   "cell_type": "code",
   "execution_count": 17,
   "metadata": {},
   "outputs": [
    {
     "name": "stderr",
     "output_type": "stream",
     "text": [
      "c:\\Users\\Kalea\\Desktop\\kifiya ai mastry\\week 6\\Credit_Scoring_Project\\notebook\\../scripts\\Default_estimator_WoE.py:43: FutureWarning: The default of observed=False is deprecated and will be changed to True in a future version of pandas. Pass observed=False to retain current behavior or observed=True to adopt the future default and silence this warning.\n",
      "  grouped = df.groupby('bin')\n"
     ]
    }
   ],
   "source": [
    "# Perform WoE binning on 'TotalTransactionAmount'\n",
    "df = woe_binning(df, 'Label', 'TotalTransactionAmount')"
   ]
  },
  {
   "cell_type": "code",
   "execution_count": 18,
   "metadata": {},
   "outputs": [],
   "source": [
    "# Save cleaned and feature-engineered data\n",
    "df.to_csv(\"../data/cleaned_data.csv\", index=False)"
   ]
  },
  {
   "cell_type": "code",
   "execution_count": 25,
   "metadata": {},
   "outputs": [
    {
     "data": {
      "application/vnd.microsoft.datawrangler.viewer.v0+json": {
       "columns": [
        {
         "name": "index",
         "rawType": "int64",
         "type": "integer"
        },
        {
         "name": "TransactionId",
         "rawType": "object",
         "type": "string"
        },
        {
         "name": "RFMS_Score",
         "rawType": "float64",
         "type": "float"
        },
        {
         "name": "Label",
         "rawType": "object",
         "type": "string"
        },
        {
         "name": "WoE",
         "rawType": "category",
         "type": "unknown"
        }
       ],
       "ref": "f1896010-f09d-4468-bcb4-d30c74ecaf45",
       "rows": [
        [
         "0",
         "TransactionId_76871",
         "101.58637265252284",
         "Good",
         "-0.23686924307231008"
        ],
        [
         "1",
         "TransactionId_73770",
         "101.58637265252284",
         "Good",
         "-0.23686924307231008"
        ],
        [
         "2",
         "TransactionId_26203",
         "101.55718800496308",
         "Good",
         "-0.017607161342465066"
        ],
        [
         "3",
         "TransactionId_380",
         "101.56719901697014",
         "Good",
         "0.17302457434330407"
        ],
        [
         "4",
         "TransactionId_28195",
         "101.56719901697014",
         "Good",
         "0.17302457434330407"
        ],
        [
         "5",
         "TransactionId_23223",
         "101.55694881541528",
         "Good",
         "-0.017607161342465066"
        ],
        [
         "6",
         "TransactionId_118063",
         "101.56428004478127",
         "Good",
         "-0.23686924307231008"
        ],
        [
         "7",
         "TransactionId_100640",
         "101.56428004478127",
         "Good",
         "-0.23686924307231008"
        ],
        [
         "8",
         "TransactionId_51905",
         "101.55771448567987",
         "Good",
         "-0.017607161342465066"
        ],
        [
         "9",
         "TransactionId_130161",
         "101.55847839328018",
         "Good",
         "-0.20414037459580484"
        ],
        [
         "10",
         "TransactionId_51800",
         "101.55968449226636",
         "Good",
         "-0.017607161342465066"
        ],
        [
         "11",
         "TransactionId_33857",
         "101.55968449226636",
         "Good",
         "-0.017607161342465066"
        ],
        [
         "12",
         "TransactionId_94963",
         "101.55847839328018",
         "Good",
         "-0.20414037459580484"
        ],
        [
         "13",
         "TransactionId_104687",
         "101.55847839328018",
         "Good",
         "-0.20414037459580484"
        ],
        [
         "14",
         "TransactionId_86903",
         "101.55847839328018",
         "Good",
         "-0.20414037459580484"
        ],
        [
         "15",
         "TransactionId_118831",
         "101.55847839328018",
         "Good",
         "-0.20414037459580484"
        ],
        [
         "16",
         "TransactionId_122975",
         "101.60619603188442",
         "Good",
         "-0.0678562245770161"
        ],
        [
         "17",
         "TransactionId_98367",
         "101.60619603188442",
         "Good",
         "-0.0678562245770161"
        ],
        [
         "18",
         "TransactionId_64044",
         "101.60619603188442",
         "Good",
         "-0.0678562245770161"
        ],
        [
         "19",
         "TransactionId_119821",
         "101.5594168983396",
         "Good",
         "-0.017607161342465066"
        ]
       ],
       "shape": {
        "columns": 4,
        "rows": 20
       }
      },
      "text/html": [
       "<div>\n",
       "<style scoped>\n",
       "    .dataframe tbody tr th:only-of-type {\n",
       "        vertical-align: middle;\n",
       "    }\n",
       "\n",
       "    .dataframe tbody tr th {\n",
       "        vertical-align: top;\n",
       "    }\n",
       "\n",
       "    .dataframe thead th {\n",
       "        text-align: right;\n",
       "    }\n",
       "</style>\n",
       "<table border=\"1\" class=\"dataframe\">\n",
       "  <thead>\n",
       "    <tr style=\"text-align: right;\">\n",
       "      <th></th>\n",
       "      <th>TransactionId</th>\n",
       "      <th>RFMS_Score</th>\n",
       "      <th>Label</th>\n",
       "      <th>WoE</th>\n",
       "    </tr>\n",
       "  </thead>\n",
       "  <tbody>\n",
       "    <tr>\n",
       "      <th>0</th>\n",
       "      <td>TransactionId_76871</td>\n",
       "      <td>101.586373</td>\n",
       "      <td>Good</td>\n",
       "      <td>-0.236869</td>\n",
       "    </tr>\n",
       "    <tr>\n",
       "      <th>1</th>\n",
       "      <td>TransactionId_73770</td>\n",
       "      <td>101.586373</td>\n",
       "      <td>Good</td>\n",
       "      <td>-0.236869</td>\n",
       "    </tr>\n",
       "    <tr>\n",
       "      <th>2</th>\n",
       "      <td>TransactionId_26203</td>\n",
       "      <td>101.557188</td>\n",
       "      <td>Good</td>\n",
       "      <td>-0.017607</td>\n",
       "    </tr>\n",
       "    <tr>\n",
       "      <th>3</th>\n",
       "      <td>TransactionId_380</td>\n",
       "      <td>101.567199</td>\n",
       "      <td>Good</td>\n",
       "      <td>0.173025</td>\n",
       "    </tr>\n",
       "    <tr>\n",
       "      <th>4</th>\n",
       "      <td>TransactionId_28195</td>\n",
       "      <td>101.567199</td>\n",
       "      <td>Good</td>\n",
       "      <td>0.173025</td>\n",
       "    </tr>\n",
       "    <tr>\n",
       "      <th>5</th>\n",
       "      <td>TransactionId_23223</td>\n",
       "      <td>101.556949</td>\n",
       "      <td>Good</td>\n",
       "      <td>-0.017607</td>\n",
       "    </tr>\n",
       "    <tr>\n",
       "      <th>6</th>\n",
       "      <td>TransactionId_118063</td>\n",
       "      <td>101.564280</td>\n",
       "      <td>Good</td>\n",
       "      <td>-0.236869</td>\n",
       "    </tr>\n",
       "    <tr>\n",
       "      <th>7</th>\n",
       "      <td>TransactionId_100640</td>\n",
       "      <td>101.564280</td>\n",
       "      <td>Good</td>\n",
       "      <td>-0.236869</td>\n",
       "    </tr>\n",
       "    <tr>\n",
       "      <th>8</th>\n",
       "      <td>TransactionId_51905</td>\n",
       "      <td>101.557714</td>\n",
       "      <td>Good</td>\n",
       "      <td>-0.017607</td>\n",
       "    </tr>\n",
       "    <tr>\n",
       "      <th>9</th>\n",
       "      <td>TransactionId_130161</td>\n",
       "      <td>101.558478</td>\n",
       "      <td>Good</td>\n",
       "      <td>-0.204140</td>\n",
       "    </tr>\n",
       "    <tr>\n",
       "      <th>10</th>\n",
       "      <td>TransactionId_51800</td>\n",
       "      <td>101.559684</td>\n",
       "      <td>Good</td>\n",
       "      <td>-0.017607</td>\n",
       "    </tr>\n",
       "    <tr>\n",
       "      <th>11</th>\n",
       "      <td>TransactionId_33857</td>\n",
       "      <td>101.559684</td>\n",
       "      <td>Good</td>\n",
       "      <td>-0.017607</td>\n",
       "    </tr>\n",
       "    <tr>\n",
       "      <th>12</th>\n",
       "      <td>TransactionId_94963</td>\n",
       "      <td>101.558478</td>\n",
       "      <td>Good</td>\n",
       "      <td>-0.204140</td>\n",
       "    </tr>\n",
       "    <tr>\n",
       "      <th>13</th>\n",
       "      <td>TransactionId_104687</td>\n",
       "      <td>101.558478</td>\n",
       "      <td>Good</td>\n",
       "      <td>-0.204140</td>\n",
       "    </tr>\n",
       "    <tr>\n",
       "      <th>14</th>\n",
       "      <td>TransactionId_86903</td>\n",
       "      <td>101.558478</td>\n",
       "      <td>Good</td>\n",
       "      <td>-0.204140</td>\n",
       "    </tr>\n",
       "    <tr>\n",
       "      <th>15</th>\n",
       "      <td>TransactionId_118831</td>\n",
       "      <td>101.558478</td>\n",
       "      <td>Good</td>\n",
       "      <td>-0.204140</td>\n",
       "    </tr>\n",
       "    <tr>\n",
       "      <th>16</th>\n",
       "      <td>TransactionId_122975</td>\n",
       "      <td>101.606196</td>\n",
       "      <td>Good</td>\n",
       "      <td>-0.067856</td>\n",
       "    </tr>\n",
       "    <tr>\n",
       "      <th>17</th>\n",
       "      <td>TransactionId_98367</td>\n",
       "      <td>101.606196</td>\n",
       "      <td>Good</td>\n",
       "      <td>-0.067856</td>\n",
       "    </tr>\n",
       "    <tr>\n",
       "      <th>18</th>\n",
       "      <td>TransactionId_64044</td>\n",
       "      <td>101.606196</td>\n",
       "      <td>Good</td>\n",
       "      <td>-0.067856</td>\n",
       "    </tr>\n",
       "    <tr>\n",
       "      <th>19</th>\n",
       "      <td>TransactionId_119821</td>\n",
       "      <td>101.559417</td>\n",
       "      <td>Good</td>\n",
       "      <td>-0.017607</td>\n",
       "    </tr>\n",
       "  </tbody>\n",
       "</table>\n",
       "</div>"
      ],
      "text/plain": [
       "           TransactionId  RFMS_Score Label       WoE\n",
       "0    TransactionId_76871  101.586373  Good -0.236869\n",
       "1    TransactionId_73770  101.586373  Good -0.236869\n",
       "2    TransactionId_26203  101.557188  Good -0.017607\n",
       "3      TransactionId_380  101.567199  Good  0.173025\n",
       "4    TransactionId_28195  101.567199  Good  0.173025\n",
       "5    TransactionId_23223  101.556949  Good -0.017607\n",
       "6   TransactionId_118063  101.564280  Good -0.236869\n",
       "7   TransactionId_100640  101.564280  Good -0.236869\n",
       "8    TransactionId_51905  101.557714  Good -0.017607\n",
       "9   TransactionId_130161  101.558478  Good -0.204140\n",
       "10   TransactionId_51800  101.559684  Good -0.017607\n",
       "11   TransactionId_33857  101.559684  Good -0.017607\n",
       "12   TransactionId_94963  101.558478  Good -0.204140\n",
       "13  TransactionId_104687  101.558478  Good -0.204140\n",
       "14   TransactionId_86903  101.558478  Good -0.204140\n",
       "15  TransactionId_118831  101.558478  Good -0.204140\n",
       "16  TransactionId_122975  101.606196  Good -0.067856\n",
       "17   TransactionId_98367  101.606196  Good -0.067856\n",
       "18   TransactionId_64044  101.606196  Good -0.067856\n",
       "19  TransactionId_119821  101.559417  Good -0.017607"
      ]
     },
     "execution_count": 25,
     "metadata": {},
     "output_type": "execute_result"
    }
   ],
   "source": [
    "# Display resulting dataframe with calculated RFMS, Labels, and WoE\n",
    "df[['TransactionId', 'RFMS_Score', 'Label', 'WoE']].head(20)"
   ]
  },
  {
   "cell_type": "code",
   "execution_count": null,
   "metadata": {},
   "outputs": [],
   "source": []
  },
  {
   "cell_type": "code",
   "execution_count": null,
   "metadata": {},
   "outputs": [],
   "source": []
  }
 ],
 "metadata": {
  "kernelspec": {
   "display_name": "env",
   "language": "python",
   "name": "python3"
  },
  "language_info": {
   "codemirror_mode": {
    "name": "ipython",
    "version": 3
   },
   "file_extension": ".py",
   "mimetype": "text/x-python",
   "name": "python",
   "nbconvert_exporter": "python",
   "pygments_lexer": "ipython3",
   "version": "3.10.11"
  }
 },
 "nbformat": 4,
 "nbformat_minor": 2
}
